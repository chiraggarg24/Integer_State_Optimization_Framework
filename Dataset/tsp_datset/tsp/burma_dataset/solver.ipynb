{
 "cells": [
  {
   "cell_type": "code",
   "execution_count": 6,
   "metadata": {},
   "outputs": [
    {
     "name": "stdout",
     "output_type": "stream",
     "text": [
      "3642.0\n",
      "Optimized tour saved in 'tour.txt'\n",
      "Total cost saved in 'cost.txt'\n"
     ]
    }
   ],
   "source": [
    "import tsplib95\n",
    "import networkx as nx\n",
    "import numpy as np\n",
    "\n",
    "def load_tsplib_instance(file_path):\n",
    "    \"\"\"Load a TSPLIB instance and convert it into a distance matrix.\"\"\"\n",
    "    problem = tsplib95.load(file_path)\n",
    "    nodes = list(problem.get_nodes())\n",
    "    \n",
    "    # Create distance matrix\n",
    "    n = len(nodes)\n",
    "    distance_matrix = np.zeros((n, n))\n",
    "    \n",
    "    for i in nodes:\n",
    "        for j in nodes:\n",
    "            if i != j:\n",
    "                distance_matrix[i-1, j-1] = problem.get_weight(i, j)\n",
    "    return problem, distance_matrix\n",
    "\n",
    "def solve_tsp_lin_kernighan(distance_matrix):\n",
    "    \"\"\"Solve TSP using Lin-Kernighan heuristic from NetworkX.\"\"\"\n",
    "    n = len(distance_matrix)\n",
    "    G = nx.complete_graph(n)\n",
    "\n",
    "    for i in range(n):\n",
    "        for j in range(i+1, n):\n",
    "            G[i][j]['weight'] = distance_matrix[i, j]\n",
    "\n",
    "    # Get an initial tour using Nearest Neighbor heuristic\n",
    "    optimum_tours = np.zeros((1000, int(n+1)))\n",
    "    tour_cost = np.zeros((1000))\n",
    "    for i in range(1000):\n",
    "        initial_tour = list(nx.approximation.greedy_tsp(G, weight='weight'))\n",
    "        \n",
    "        # Apply Lin-Kernighan heuristic to optimize the tour\n",
    "        optimized_tour = nx.approximation.threshold_accepting_tsp(G, initial_tour, weight='weight')\n",
    "\n",
    "        # Compute total tour cost\n",
    "        total_cost = sum(G[optimized_tour[i]][optimized_tour[i+1]]['weight'] for i in range(len(optimized_tour) - 1))\n",
    "        optimum_tours[i,:] = optimized_tour\n",
    "        tour_cost[i] = total_cost\n",
    "    \n",
    "    return optimum_tours, tour_cost\n",
    "\n",
    "# def save_results(optimized_tour, total_cost):\n",
    "#     \"\"\"Save the optimized tour and total cost to separate files.\"\"\"\n",
    "#     with open(\"tour.txt\", \"w\") as f:\n",
    "#         f.write(\" \".join(map(str, optimized_tour)) + \"\\n\")\n",
    "\n",
    "#     with open(\"cost.txt\", \"w\") as f:\n",
    "#         f.write(f\"{total_cost}\\n\")\n",
    "\n",
    "# Example usage\n",
    "tsplib_instance = \"burma14.tsp\"  # Replace with actual TSPLIB file path\n",
    "problem, distance_matrix = load_tsplib_instance(tsplib_instance)\n",
    "optimized_tour, total_cost = solve_tsp_lin_kernighan(distance_matrix)\n",
    "print(np.min(total_cost))\n",
    "# save_results(optimized_tour, total_cost)\n",
    "# optimal_tour = np.array([1, 2, 14, 3, 4, 5, 6, 12, 7, 13, 8, 11, 9, 10, 1]) -1\n",
    "# optimal_tour = optimized_tour\n",
    "# sample_tour_cost = 0\n",
    "# # print(distance_matrix)\n",
    "# for i in range(len(optimal_tour)):\n",
    "\n",
    "#     sample_tour_cost += distance_matrix[optimal_tour[i-1]] [optimal_tour[i]]\n",
    "\n",
    "# print(sample_tour_cost)\n",
    "print(\"Optimized tour saved in 'tour.txt'\")\n",
    "print(\"Total cost saved in 'cost.txt'\")\n"
   ]
  }
 ],
 "metadata": {
  "kernelspec": {
   "display_name": "base",
   "language": "python",
   "name": "python3"
  },
  "language_info": {
   "codemirror_mode": {
    "name": "ipython",
    "version": 3
   },
   "file_extension": ".py",
   "mimetype": "text/x-python",
   "name": "python",
   "nbconvert_exporter": "python",
   "pygments_lexer": "ipython3",
   "version": "3.11.5"
  }
 },
 "nbformat": 4,
 "nbformat_minor": 2
}
